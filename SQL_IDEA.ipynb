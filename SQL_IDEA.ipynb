{
 "cells": [
  {
   "cell_type": "code",
   "execution_count": 2,
   "metadata": {},
   "outputs": [],
   "source": [
    "import json\n",
    "from settings import *\n",
    "import mysql.connector\n",
    "\n",
    "# Load MySQL credentials from configuration file\n",
    "with open(GAME_DIRECTORY + \"\\\\configuration settings\\\\SQL_Link\\\\config.json\", 'r') as f:\n",
    "    config = json.load(f)\n"
   ]
  },
  {
   "cell_type": "code",
   "execution_count": 16,
   "metadata": {},
   "outputs": [
    {
     "name": "stdout",
     "output_type": "stream",
     "text": [
      "(1, 'player_name')\n",
      "Something went wrong: 1304 (42000): PROCEDURE level_up already exists\n"
     ]
    }
   ],
   "source": [
    "try:\n",
    "    with mysql.connector.connect(**config['mysql']) as db: # unpacks config dictionary\n",
    "        with db.cursor() as cursor:\n",
    "            cursor.execute(\"CREATE DATABASE IF NOT EXISTS \" + TEST_REALM)\n",
    "            cursor.execute(\"USE \" + TEST_REALM)  # select the database\n",
    "\n",
    "            # Proceed with table creation and other operations\n",
    "            cursor.execute(\"DROP TABLE players\")\n",
    "            cursor.execute(\"CREATE TABLE IF NOT EXISTS players (id INT AUTO_INCREMENT PRIMARY KEY, name VARCHAR(255))\")\n",
    "            cursor.execute(\"INSERT INTO players (name) VALUES (%s)\", (\"player_name\",)) \n",
    "            db.commit()\n",
    "\n",
    "            cursor.execute(\"SELECT * FROM players\")\n",
    "            for row in cursor:\n",
    "                print(row)\n",
    "\n",
    "            # Close the connection\n",
    "            cursor.close()\n",
    "            db.close()\n",
    "except mysql.connector.Error as err:\n",
    "    print(\"Something went wrong:\", err)\n",
    "\n",
    "\n",
    "try:\n",
    "    with mysql.connector.connect(**config['mysql']) as db: # unpacks config dictionary\n",
    "        with db.cursor() as cursor:\n",
    "            cursor.execute(\"CREATE DATABASE IF NOT EXISTS \" + TEST_REALM)\n",
    "            cursor.execute(\"USE \" + TEST_REALM)  # select the database\n",
    "\n",
    "            # Set up the stored procedure\n",
    "            cursor.execute(\"\"\"\n",
    "                CREATE PROCEDURE level_up(IN character_id INT, IN exp_gained INT)\n",
    "                BEGIN\n",
    "                    UPDATE characters SET experience = experience + exp_gained WHERE id = character_id;\n",
    "                    UPDATE characters SET level = level + 1 WHERE id = character_id AND experience >= 1000;\n",
    "                END\n",
    "            \"\"\")\n",
    "\n",
    "            # Close the cursor and connection\n",
    "            cursor.close()\n",
    "            db.close()\n",
    "except mysql.connector.Error as err:\n",
    "    print(\"Something went wrong:\", err)"
   ]
  },
  {
   "cell_type": "code",
   "execution_count": 41,
   "metadata": {},
   "outputs": [],
   "source": [
    "import json\n",
    "import mysql.connector\n",
    "from settings import *\n",
    "\n",
    "# Load MySQL credentials from configuration file\n",
    "with open(GAME_DIRECTORY + \"\\\\configuration settings\\\\SQL_Link\\\\config.json\", 'r') as f:\n",
    "    config = json.load(f)\n",
    "\n",
    "try:\n",
    "    with mysql.connector.connect(**config['mysql']) as db:  # unpacks config dictionary\n",
    "        with db.cursor() as cursor:\n",
    "            cursor.execute(\"USE testdatabase\") # select database\n",
    "\n",
    "            # Create the stored procedure\n",
    "            cursor.execute(\"\"\"\n",
    "                CREATE PROCEDURE level_up(IN character_id INT, IN exp_gained INT)\n",
    "                BEGIN\n",
    "                    UPDATE characters SET experience = experience + exp_gained WHERE id = character_id;\n",
    "                    UPDATE characters SET level = level + 1 WHERE id = character_id AND experience >= level*1000;\n",
    "                END;\n",
    "            \"\"\")\n",
    "            db.commit()\n",
    "except mysql.connector.Error as err:\n",
    "    print(\"Something went wrong:\", err)\n",
    "\n",
    "            cursor.execute(\"CREATE DATABASE IF NOT EXISTS \" + TEST_REALM)\n",
    "            cursor.execute(\"USE \" + TEST_REALM)  # select the database\n",
    "\n",
    "            # Drop existing tables if needed (for a fresh setup)\n",
    "            cursor.execute(\"DROP TABLE IF EXISTS characters\")\n",
    "            cursor.execute(\"DROP TABLE IF EXISTS players\")\n",
    "\n",
    "            # Create new tables\n",
    "            cursor.execute(\"\"\"\n",
    "                CREATE TABLE IF NOT EXISTS characters (\n",
    "                    id INT AUTO_INCREMENT PRIMARY KEY, \n",
    "                    name VARCHAR(255),\n",
    "                    experience INT DEFAULT 0,\n",
    "                    level INT DEFAULT 1\n",
    "                )\n",
    "            \"\"\")\n",
    "            cursor.execute(\"\"\"\n",
    "                CREATE TABLE IF NOT EXISTS players (\n",
    "                    id INT AUTO_INCREMENT PRIMARY KEY, \n",
    "                    name VARCHAR(255)\n",
    "                )\n",
    "            \"\"\")\n",
    "            \n",
    "            # Insert a sample character\n",
    "            cursor.execute(\"INSERT INTO characters (name, experience, level) VALUES (%s, %s, %s)\", (\"John Doe\", 500, 1))\n",
    "            db.commit()\n",
    "            \n",
    "            # Drop the stored procedure if it exists\n",
    "            cursor.execute(\"DROP PROCEDURE IF EXISTS level_up\")\n",
    "\n",
    "            # Create the stored procedure\n",
    "            cursor.execute(\"\"\"\n",
    "                CREATE PROCEDURE level_up(IN character_id INT, IN exp_gained INT)\n",
    "                BEGIN\n",
    "                    UPDATE characters SET experience = experience + exp_gained WHERE id = character_id;\n",
    "                    UPDATE characters SET level = level + 1 WHERE id = character_id AND experience >= level*1000;\n",
    "                END;\n",
    "            \"\"\")\n",
    "            db.commit()\n",
    "\n",
    "except mysql.connector.Error as err:\n",
    "    print(\"Something went wrong:\", err)\n",
    "\n"
   ]
  },
  {
   "cell_type": "code",
   "execution_count": 42,
   "metadata": {},
   "outputs": [
    {
     "name": "stdout",
     "output_type": "stream",
     "text": [
      "(1, 'John Doe', 1000, 2)\n"
     ]
    }
   ],
   "source": [
    "# TEST STORED PROCEDURE\n",
    "\n",
    "try:\n",
    "    with mysql.connector.connect(**config['mysql']) as db:  # unpacks config dictionary\n",
    "        with db.cursor() as cursor:\n",
    "            cursor.execute(\"USE \" + TEST_REALM)  # select the database\n",
    "\n",
    "            # Call the stored procedure\n",
    "            cursor.callproc('level_up', [1, 500])  # Assuming `1` is the ID of Rowan Raya Lucaria\n",
    "            \n",
    "            # Fetch the updated character data\n",
    "            cursor.execute(\"SELECT id, name, experience, level FROM characters WHERE id = 1\")\n",
    "            for row in cursor:\n",
    "                print(row)  # Outputs the updated character data\n",
    "\n",
    "except mysql.connector.Error as err:\n",
    "    print(\"Something went wrong:\", err)\n"
   ]
  }
 ],
 "metadata": {
  "kernelspec": {
   "display_name": "ML_env",
   "language": "python",
   "name": "python3"
  },
  "language_info": {
   "codemirror_mode": {
    "name": "ipython",
    "version": 3
   },
   "file_extension": ".py",
   "mimetype": "text/x-python",
   "name": "python",
   "nbconvert_exporter": "python",
   "pygments_lexer": "ipython3",
   "version": "3.12.1"
  }
 },
 "nbformat": 4,
 "nbformat_minor": 2
}
